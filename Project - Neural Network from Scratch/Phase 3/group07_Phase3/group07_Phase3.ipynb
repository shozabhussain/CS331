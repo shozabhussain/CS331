{
  "nbformat": 4,
  "nbformat_minor": 0,
  "metadata": {
    "colab": {
      "name": "group07_Phase3.ipynb",
      "provenance": [],
      "collapsed_sections": []
    },
    "kernelspec": {
      "name": "python3",
      "display_name": "Python 3"
    },
    "language_info": {
      "name": "python"
    },
    "widgets": {
      "application/vnd.jupyter.widget-state+json": {
        "308bf05766344b16bf89fb7b762fd9b0": {
          "model_module": "@jupyter-widgets/controls",
          "model_name": "HBoxModel",
          "state": {
            "_view_name": "HBoxView",
            "_dom_classes": [],
            "_model_name": "HBoxModel",
            "_view_module": "@jupyter-widgets/controls",
            "_model_module_version": "1.5.0",
            "_view_count": null,
            "_view_module_version": "1.5.0",
            "box_style": "",
            "layout": "IPY_MODEL_06f5f475e89242f28408aa973e2a40dc",
            "_model_module": "@jupyter-widgets/controls",
            "children": [
              "IPY_MODEL_46f62f21d9464a8fac171199f200a4ba",
              "IPY_MODEL_28357d65de2a449aa77a15f0723bc701"
            ]
          }
        },
        "06f5f475e89242f28408aa973e2a40dc": {
          "model_module": "@jupyter-widgets/base",
          "model_name": "LayoutModel",
          "state": {
            "_view_name": "LayoutView",
            "grid_template_rows": null,
            "right": null,
            "justify_content": null,
            "_view_module": "@jupyter-widgets/base",
            "overflow": null,
            "_model_module_version": "1.2.0",
            "_view_count": null,
            "flex_flow": null,
            "width": null,
            "min_width": null,
            "border": null,
            "align_items": null,
            "bottom": null,
            "_model_module": "@jupyter-widgets/base",
            "top": null,
            "grid_column": null,
            "overflow_y": null,
            "overflow_x": null,
            "grid_auto_flow": null,
            "grid_area": null,
            "grid_template_columns": null,
            "flex": null,
            "_model_name": "LayoutModel",
            "justify_items": null,
            "grid_row": null,
            "max_height": null,
            "align_content": null,
            "visibility": null,
            "align_self": null,
            "height": null,
            "min_height": null,
            "padding": null,
            "grid_auto_rows": null,
            "grid_gap": null,
            "max_width": null,
            "order": null,
            "_view_module_version": "1.2.0",
            "grid_template_areas": null,
            "object_position": null,
            "object_fit": null,
            "grid_auto_columns": null,
            "margin": null,
            "display": null,
            "left": null
          }
        },
        "46f62f21d9464a8fac171199f200a4ba": {
          "model_module": "@jupyter-widgets/controls",
          "model_name": "FloatProgressModel",
          "state": {
            "_view_name": "ProgressView",
            "style": "IPY_MODEL_3b3674b370d14dd8a74ee42c83d6e9a7",
            "_dom_classes": [],
            "description": "100%",
            "_model_name": "FloatProgressModel",
            "bar_style": "success",
            "max": 30,
            "_view_module": "@jupyter-widgets/controls",
            "_model_module_version": "1.5.0",
            "value": 30,
            "_view_count": null,
            "_view_module_version": "1.5.0",
            "orientation": "horizontal",
            "min": 0,
            "description_tooltip": null,
            "_model_module": "@jupyter-widgets/controls",
            "layout": "IPY_MODEL_09bb05a62f6f4a959431eb9f7b93c3c6"
          }
        },
        "28357d65de2a449aa77a15f0723bc701": {
          "model_module": "@jupyter-widgets/controls",
          "model_name": "HTMLModel",
          "state": {
            "_view_name": "HTMLView",
            "style": "IPY_MODEL_1839d58bd7e0480f876a525a82d1cb31",
            "_dom_classes": [],
            "description": "",
            "_model_name": "HTMLModel",
            "placeholder": "​",
            "_view_module": "@jupyter-widgets/controls",
            "_model_module_version": "1.5.0",
            "value": " 30/30 [42:01&lt;00:00, 84.06s/it]",
            "_view_count": null,
            "_view_module_version": "1.5.0",
            "description_tooltip": null,
            "_model_module": "@jupyter-widgets/controls",
            "layout": "IPY_MODEL_127e7cfae4c04a998f2d22eb270a92fe"
          }
        },
        "3b3674b370d14dd8a74ee42c83d6e9a7": {
          "model_module": "@jupyter-widgets/controls",
          "model_name": "ProgressStyleModel",
          "state": {
            "_view_name": "StyleView",
            "_model_name": "ProgressStyleModel",
            "description_width": "initial",
            "_view_module": "@jupyter-widgets/base",
            "_model_module_version": "1.5.0",
            "_view_count": null,
            "_view_module_version": "1.2.0",
            "bar_color": null,
            "_model_module": "@jupyter-widgets/controls"
          }
        },
        "09bb05a62f6f4a959431eb9f7b93c3c6": {
          "model_module": "@jupyter-widgets/base",
          "model_name": "LayoutModel",
          "state": {
            "_view_name": "LayoutView",
            "grid_template_rows": null,
            "right": null,
            "justify_content": null,
            "_view_module": "@jupyter-widgets/base",
            "overflow": null,
            "_model_module_version": "1.2.0",
            "_view_count": null,
            "flex_flow": null,
            "width": null,
            "min_width": null,
            "border": null,
            "align_items": null,
            "bottom": null,
            "_model_module": "@jupyter-widgets/base",
            "top": null,
            "grid_column": null,
            "overflow_y": null,
            "overflow_x": null,
            "grid_auto_flow": null,
            "grid_area": null,
            "grid_template_columns": null,
            "flex": null,
            "_model_name": "LayoutModel",
            "justify_items": null,
            "grid_row": null,
            "max_height": null,
            "align_content": null,
            "visibility": null,
            "align_self": null,
            "height": null,
            "min_height": null,
            "padding": null,
            "grid_auto_rows": null,
            "grid_gap": null,
            "max_width": null,
            "order": null,
            "_view_module_version": "1.2.0",
            "grid_template_areas": null,
            "object_position": null,
            "object_fit": null,
            "grid_auto_columns": null,
            "margin": null,
            "display": null,
            "left": null
          }
        },
        "1839d58bd7e0480f876a525a82d1cb31": {
          "model_module": "@jupyter-widgets/controls",
          "model_name": "DescriptionStyleModel",
          "state": {
            "_view_name": "StyleView",
            "_model_name": "DescriptionStyleModel",
            "description_width": "",
            "_view_module": "@jupyter-widgets/base",
            "_model_module_version": "1.5.0",
            "_view_count": null,
            "_view_module_version": "1.2.0",
            "_model_module": "@jupyter-widgets/controls"
          }
        },
        "127e7cfae4c04a998f2d22eb270a92fe": {
          "model_module": "@jupyter-widgets/base",
          "model_name": "LayoutModel",
          "state": {
            "_view_name": "LayoutView",
            "grid_template_rows": null,
            "right": null,
            "justify_content": null,
            "_view_module": "@jupyter-widgets/base",
            "overflow": null,
            "_model_module_version": "1.2.0",
            "_view_count": null,
            "flex_flow": null,
            "width": null,
            "min_width": null,
            "border": null,
            "align_items": null,
            "bottom": null,
            "_model_module": "@jupyter-widgets/base",
            "top": null,
            "grid_column": null,
            "overflow_y": null,
            "overflow_x": null,
            "grid_auto_flow": null,
            "grid_area": null,
            "grid_template_columns": null,
            "flex": null,
            "_model_name": "LayoutModel",
            "justify_items": null,
            "grid_row": null,
            "max_height": null,
            "align_content": null,
            "visibility": null,
            "align_self": null,
            "height": null,
            "min_height": null,
            "padding": null,
            "grid_auto_rows": null,
            "grid_gap": null,
            "max_width": null,
            "order": null,
            "_view_module_version": "1.2.0",
            "grid_template_areas": null,
            "object_position": null,
            "object_fit": null,
            "grid_auto_columns": null,
            "margin": null,
            "display": null,
            "left": null
          }
        }
      }
    }
  },
  "cells": [
    {
      "cell_type": "markdown",
      "metadata": {
        "id": "SYT-2x47-sjY"
      },
      "source": [
        "# CS331 - Spring 2021 - Phase 3 [5%]\n",
        "\n",
        "*__Submission Guidelines:__*\n",
        "- Naming convention for submission of this notebook is `groupXX_Phase3.ipynb` where XX needs to be replaced by your group number. For example: group 1 would rename their notebook to `group01_Phase3.ipynb`\n",
        "- Only the group lead is supposed to make the submission\n",
        "- You need to submit this file as an .ipynb along with a .zip file of your own dataset and a document via LMS \n",
        "- The naming convention for the dataset is `groupXX_Dataset.zip`. Replace XX with the group number. The dataset <b>must</b> be a .zip file\n",
        "- For the document, the naming convention is `groupXX_Document.pdf` where XX needs to be replaced by your group number. In the document, you have to tell why you chose the preprocessing methods that you chose and also justify the choice of network and the hyperparamters. Essentially, document the process of phase 3. The document should not be longer than 2 pages and less than 1 page\n",
        "- All the cells <b>must</b> be run once before submission. If your submission's cells are not showing the results (plots etc.), marks wil be deducted\n",
        "- Only the code written within this notebook will be considered while grading. No other files will be entertained\n",
        "- You are advised to follow good programming practies including approriate variable naming and making use of logical comments \n",
        "\n",
        "The university honor code should be maintained. Any violation, if found, will result in disciplinary action. \n"
      ]
    },
    {
      "cell_type": "markdown",
      "metadata": {
        "id": "zpC12Mye-9uZ"
      },
      "source": [
        "#### <b>Introduction</b> \n",
        "This is the final phase of this offering's project. By now you guys have managed to build a multi-layer NN from scratch which is capable of scoring decent accuracy on the Fashion MNIST dataset. In this phase, we are going to shift our focus to the process of data engineering. You will be creating your own dataset (details will be disclosed as you follow along), you will have to carry out some preprocessing on this dataset of yours and will use this to evaluate your network from phase 2. This will also involove the tedious process of tweaking the hyperparamters so that your network scores higher accuracy scores on your own, novel, dataset\n",
        "\n",
        "###### <b>IMPORTANT\n",
        "\n",
        "###### Modification of the provided code without prior discussion with the TAs will result in a grade deduction</b>\n",
        "\n",
        "---\n",
        "\n",
        "###### <b>Side note</b>\n",
        "The `plot_model` method will only work if you have the `pydot` python package installed along with [Graphviz](https://graphviz.gitlab.io/download/). If you do not wish to use this then simply comment out the import for `pydot`\n",
        "\n",
        "###### <b>Need Help?</b>\n",
        "If you need help, please refer to the course staff ASAP and do not wait till the last moment as they might not be available on very short notice close to deadlines"
      ]
    },
    {
      "cell_type": "markdown",
      "metadata": {
        "id": "idDbgABDBuvZ"
      },
      "source": [
        "#### <b>PART 1</b>\n",
        "\n",
        "This part is essentially the copy pasting of the codes from cells of your phase 2's notebook to the cells of this notebook. The intent is to replicate your phase 2's network and train (using the same OR different hyperparamters) it so that it can be used to evlaute the novel dataset (that will be part 2 of this phase)"
      ]
    },
    {
      "cell_type": "code",
      "metadata": {
        "id": "s0OE_p0V-q-H"
      },
      "source": [
        "# making all the necessary imports here\n",
        "\n",
        "import numpy as np\n",
        "import pandas as pd\n",
        "import time\n",
        "%matplotlib inline\n",
        "import matplotlib.pyplot as plt\n",
        "plt.style.use('seaborn')\n",
        "from IPython.display import Image\n",
        "import pydot\n",
        "from tqdm import tqdm_notebook\n",
        "import seaborn as sns\n",
        "from keras.datasets import fashion_mnist\n",
        "from sklearn.model_selection import train_test_split\n",
        "from keras.utils import np_utils\n",
        "from sklearn.datasets import make_moons\n",
        "from sklearn.linear_model import LinearRegression, LogisticRegression\n",
        "from sklearn.metrics import confusion_matrix,classification_report\n",
        "from google.colab import drive\n",
        "import glob\n",
        "import cv2"
      ],
      "execution_count": null,
      "outputs": []
    },
    {
      "cell_type": "code",
      "metadata": {
        "id": "sz6xWsK3B-k4"
      },
      "source": [
        "# This function will be used to plot the confusion matrix at the end of this notebook\n",
        "\n",
        "def plot_confusion_matrix(conf_mat):\n",
        "    classes = ['T-shirt/top','Trouser/pants','Pullover shirt','Dress','Coat','Sandal','Shirt','Sneaker','Bag','Ankle boot']\n",
        "    df_cm = pd.DataFrame(conf_mat,classes,classes)\n",
        "    plt.figure(figsize=(15,9))\n",
        "    sns.set(font_scale=1.4)\n",
        "    sns.heatmap(df_cm, annot=True,annot_kws={\"size\": 16})\n",
        "    plt.show()\n",
        "\n",
        "class_labels = ['T-shirt/top','Trouser/pants','Pullover shirt','Dress','Coat','Sandal','Shirt','Sneaker','Bag','Ankle boot']"
      ],
      "execution_count": null,
      "outputs": []
    },
    {
      "cell_type": "code",
      "metadata": {
        "id": "J8vdVLQ0B_bd"
      },
      "source": [
        "# Enter group lead's roll number here. This will be used for plotting purposes\n",
        "\n",
        "rollnumber = 23100035"
      ],
      "execution_count": null,
      "outputs": []
    },
    {
      "cell_type": "markdown",
      "metadata": {
        "id": "MK2xKOxzCqgE"
      },
      "source": [
        "#### __Dataset from Keras Library__\n",
        "\n",
        "The required library has been imported for you as fashion_mnist. Use it to load the train and test data accordingly."
      ]
    },
    {
      "cell_type": "code",
      "metadata": {
        "id": "2ehOJSGECqOD",
        "colab": {
          "base_uri": "https://localhost:8080/"
        },
        "outputId": "c244eae4-f876-4b29-9452-76b4acf3d46e"
      },
      "source": [
        "classes = 10 # Do not change this\n",
        "\n",
        "\n",
        "# Download Fashion MNIST dataset\n",
        "###### Code Here ######\n",
        "(x_train,y_train_original),(x_test,y_test_original)= fashion_mnist.load_data()\n",
        "\n",
        "# Split the fashion MNIST dataset into train and test sets\n",
        "\n",
        "\n",
        "# Convert y_train and y_test to categorical binary values \n",
        "###### Code Here ######\n",
        "# trainy =np.zeros((x_train.shape[0], 10))\n",
        "# testy =np.zeros((x_test.shape[0], 10))\n",
        "\n",
        "\n",
        "# for i in range(y_test_original.shape[0]):\n",
        "#   testy[i][y_test_original[i]]=1\n",
        "\n",
        "# for i in range(y_train_original.shape[0]):\n",
        "#   trainy[i][y_train_original[i]]=1\n",
        "\n",
        "trainy= np_utils.to_categorical(y_train_original)\n",
        "testy= np_utils.to_categorical(y_test_original)\n",
        "\n",
        "#Reshape train and test images as one-dimensional arrays\n",
        "###### Code Here ######\n",
        "\n",
        "# trainX = x_train.reshape(x_train.shape[0],784)\n",
        "# testX = x_test.reshape(x_test.shape[0],784)\n",
        "\n",
        "\n",
        "trainX=[]\n",
        "testX=[]\n",
        "\n",
        "for i in range(len(x_train)):\n",
        "  trainX.append(x_train[i].flatten())\n",
        "  \n",
        "for i in range(len(x_test)):\n",
        "  testX.append(x_test[i].flatten())\n",
        "\n",
        "trainX=np.array(trainX)\n",
        "testX=np.array(testX)\n",
        "\n",
        "trainX=trainX/255.0\n",
        "testX =testX/255.0\n",
        "\n",
        "\n",
        "print(\"Number of training sample: \", len(trainX))  # You can change len(X_train) based on your implementation such that total number of training samples is printed\n",
        "print(\"Number of testing sample: \", len(testX))    # You can change len(X_test) based on your implementation such that total number of test samples is printed"
      ],
      "execution_count": null,
      "outputs": [
        {
          "output_type": "stream",
          "text": [
            "Downloading data from https://storage.googleapis.com/tensorflow/tf-keras-datasets/train-labels-idx1-ubyte.gz\n",
            "32768/29515 [=================================] - 0s 0us/step\n",
            "Downloading data from https://storage.googleapis.com/tensorflow/tf-keras-datasets/train-images-idx3-ubyte.gz\n",
            "26427392/26421880 [==============================] - 0s 0us/step\n",
            "Downloading data from https://storage.googleapis.com/tensorflow/tf-keras-datasets/t10k-labels-idx1-ubyte.gz\n",
            "8192/5148 [===============================================] - 0s 0us/step\n",
            "Downloading data from https://storage.googleapis.com/tensorflow/tf-keras-datasets/t10k-images-idx3-ubyte.gz\n",
            "4423680/4422102 [==============================] - 0s 0us/step\n",
            "Number of training sample:  60000\n",
            "Number of testing sample:  10000\n"
          ],
          "name": "stdout"
        }
      ]
    },
    {
      "cell_type": "markdown",
      "metadata": {
        "id": "BLeZFElYFINX"
      },
      "source": [
        "#### __NN Implementation__\n",
        "Your implementation of NN needs to use the `sigmoid` activation function for all hidden layers and the `softmax` activation function for the output layer. The NN model you will be creating here will consits of only three layers: 1 input layer, n hidden layers (where you have the liberty to define n) and 1 output layer."
      ]
    },
    {
      "cell_type": "code",
      "metadata": {
        "id": "rVq8Oq-MD2wZ"
      },
      "source": [
        "class NeuralNetwork():\n",
        "    @staticmethod\n",
        "    def cross_entropy_loss(y_pred, y_true):\n",
        "        # implement cross_entropy_loss function\n",
        "        #TO DO\n",
        "\n",
        "        y_pred_final = np.log2(y_pred)\n",
        "        cross_entropy_loss = -(y_true * y_pred_final).sum()\n",
        "\n",
        "\n",
        "        return cross_entropy_loss\n",
        "    \n",
        "\n",
        "    @staticmethod\n",
        "    def accuracy(y_pred, y_true):\n",
        "        # implement accuracy function\n",
        "        #TO DO      \n",
        "        acc = 0\n",
        "        for i in range(len(y_pred)):\n",
        "            if y_pred[i] == y_true[i]:\n",
        "                acc += 1\n",
        "\n",
        "        return acc/len(y_pred)*100\n",
        "\n",
        "    @staticmethod\n",
        "    def softmax(x):\n",
        "        # implement softmax function\n",
        "        #TO DO\n",
        "\n",
        "        exp = np.exp(x)\n",
        "\n",
        "        softmax = exp/(exp.sum(axis=1, keepdims=True))\n",
        "\n",
        "        return softmax\n",
        "\n",
        "    @staticmethod\n",
        "    def sigmoid(x):\n",
        "        #TO DO\n",
        "        \n",
        "        sigmoid = 1/(1+ np.exp(-1*x))\n",
        "        return sigmoid\n",
        "\n",
        "    def __init__(self, nodes_per_layer):\n",
        "        '''Creates a Feed-Forward Neural Network.\n",
        "        The parameters represent the number of nodes in each layer. \n",
        "        Look at the inputs to the function, and use 'try and accept'\n",
        "        to catch errors if number of layers are < 2.\n",
        "        '''\n",
        "        \n",
        "        self.num_layers = len(nodes_per_layer) # including input and output layers\n",
        "        self.nodes_per_layer = nodes_per_layer\n",
        "        self.input_shape = 784\n",
        "        self.output_shape = 10\n",
        "\n",
        "        self.weights_ = []\n",
        "        self.biases_ = []\n",
        "        self.__init_weights(nodes_per_layer)\n",
        "\n",
        "    def __init_weights(self, nodes_per_layer):\n",
        "        '''Initializes all weights based on standard normal distribution and all biases to 0.'''\n",
        "        '''Initialize weights for each layer except the input layer, since it does not have weights.'''\n",
        "\n",
        "          ###### Code Here ######\n",
        "\n",
        "        for i in range(len(self.nodes_per_layer)):\n",
        "          if i != 0: #For all layers except input\n",
        "            W_t = np.random.normal(size=(self.nodes_per_layer[i-1],self.nodes_per_layer[i])) #Random Normal values (Between -1 and 1)\n",
        "            b_t = np.zeros(shape=(self.nodes_per_layer[i],)) #Makes a matrix full of zeros\n",
        "            self.weights_.append(W_t)#Append\n",
        "            self.biases_.append(b_t)\n",
        "       \n",
        "\n",
        "    def forward_pass(self, input_data):\n",
        "        '''Executes the feed forward algorithm.\n",
        "        \"input_data\" is the input to the network in row-major form\n",
        "        Returns \"activations\", which is a list of all layer outputs (excluding input layer of course)'''\n",
        "        \n",
        "        ###### Code Here ######\n",
        "        activations=[]\n",
        "\n",
        "        inp = np.array(input_data) #Saves input\n",
        "\n",
        "        for i in range(len(self.weights_)): #For Layers that have weights\n",
        "          hidd = np.dot(inp,self.weights_[i]) #Inputs * weights\n",
        "          if i!=(len(self.weights_)-1): #If not final layer\n",
        "            act = NeuralNetwork.sigmoid(hidd + self.biases_[i]) #add biases and pass to sigmoid\n",
        "            activations.append(act) #append\n",
        "            inp=act #New Input\n",
        "          else: #If last layer\n",
        "            act = NeuralNetwork.softmax(hidd + self.biases_[i]) #Pass to softmax \n",
        "            activations.append(act)#append \n",
        "              \n",
        "\n",
        "        return activations\n",
        "    \n",
        "    def backward_pass(self, targets, layer_activations):\n",
        "        '''Executes the backpropogation algorithm.\n",
        "        \"targets\" is the ground truth/labels\n",
        "        \"layer_activations\" are the return value of the forward pass step\n",
        "        Returns \"deltas\", which is a list containing weight update values for all layers (excluding the input layer of course)'''\n",
        "        \n",
        "        ###### Code Here ######\n",
        "        deltas=[]\n",
        "        output_activation = layer_activations[-1] #Outputs\n",
        "        error=[]\n",
        "       \n",
        "        error = np.subtract(output_activation,targets) #Calculate Difference\n",
        "\n",
        "        deriv =  output_activation * (1-output_activation) #Derivate\n",
        "        \n",
        "        delta_out = error*deriv #Error calculation\n",
        "        deltas.append(delta_out)\n",
        "\n",
        "        err = np.matmul(delta_out,self.weights_[-1].T) #new Error\n",
        "        \n",
        "        for i in range(self.num_layers-3,-1,-1): #For all the middle layers (Not output, not input)\n",
        "          #repeat above process\n",
        "          hidd = layer_activations[i]\n",
        "\n",
        "          act = hidd * (1-hidd)\n",
        "          delta_out = err*act\n",
        "\n",
        "          err = np.matmul(delta_out,self.weights_[i].T)\n",
        "          deltas.append(delta_out)\n",
        "        \n",
        "\n",
        "        deltas.reverse() #Reversed because the append order is from output-->input, We want reverse\n",
        "        return deltas\n",
        "\n",
        "\n",
        "    def weight_update(self, deltas, layer_inputs, lr):\n",
        "        '''Executes the gradient descent algorithm.\n",
        "        \"deltas\" is return value of the backward pass step\n",
        "        \"layer_inputs\" is a list containing the inputs for all layers (including the input layer)\n",
        "        \"lr\" is the learning rate'''\n",
        "        \n",
        "        for i in range(len(deltas)):\n",
        "          dot_prod = np.dot(layer_inputs[i].T,deltas[i])\n",
        "          self.weights_[i] = self.weights_[i] - lr * dot_prod\n",
        "          self.biases_[i] = self.biases_[i] - lr * deltas[i].sum(axis = 0)\n",
        "\n",
        "\n",
        "    \n",
        "    ###### Do Not Change Anything Below this line in This Cell ######\n",
        "    \n",
        "    def fit(self, Xs, Ys, epochs, lr):\n",
        "            history = []\n",
        "            for epoch in tqdm_notebook(range(epochs)):\n",
        "                num_samples = Xs.shape[0]\n",
        "                for i in range(num_samples):\n",
        "\n",
        "                    sample_input = Xs[i,:].reshape((1,self.input_shape))\n",
        "                    sample_target = Ys[i,:].reshape((1,self.output_shape))\n",
        "                    \n",
        "                    activations = self.forward_pass(sample_input)   # Call forward_pass function \n",
        "                    deltas = self.backward_pass(sample_target, activations)    # Call backward_pass function \n",
        "                    layer_inputs = [sample_input] + activations[:-1]\n",
        "                    \n",
        "                    # Call weight_update function \n",
        "                    self.weight_update(deltas, layer_inputs, lr)\n",
        "                \n",
        "                preds = self.predict(Xs)   # Call predict function \n",
        "\n",
        "                current_loss = self.cross_entropy_loss(preds, Ys)\n",
        "                \n",
        "                if  epoch==epochs-1:\n",
        "                  confusion_mat=confusion_matrix(Ys.argmax(axis=1), preds.argmax(axis=1),labels=np.arange(10))  \n",
        "                  plot_confusion_matrix(confusion_mat)\n",
        "                  report = classification_report(Ys, np_utils.to_categorical(preds.argmax(axis=1),num_classes=classes), target_names=class_labels)\n",
        "                  print(report)\n",
        "                history.append(current_loss)\n",
        "            return history\n",
        "    \n",
        "    def predict(self, Xs):\n",
        "        '''Returns the model predictions (output of the last layer) for the given \"Xs\".'''\n",
        "        predictions = []\n",
        "        num_samples = Xs.shape[0]\n",
        "        for i in range(num_samples):\n",
        "            sample = Xs[i,:].reshape((1,self.input_shape))\n",
        "            sample_prediction = self.forward_pass(sample)[-1]\n",
        "            predictions.append(sample_prediction.reshape((self.output_shape,)))\n",
        "        return np.array(predictions)\n",
        "    \n",
        "    def evaluate(self, Xs, Ys):\n",
        "        '''Returns appropriate metrics for the task, calculated on the dataset passed to this method.'''\n",
        "        pred = self.predict(Xs)\n",
        "        return self.cross_entropy_loss(pred, Ys), self.accuracy(pred.argmax(axis=1), Ys.argmax(axis=1))\n",
        "    \n",
        "    def plot_model(self, filename):\n",
        "        '''Provide the \"filename\" as a string including file extension. Creates an image showing the model as a graph.'''\n",
        "        graph = pydot.Dot(graph_type='digraph')\n",
        "        graph.set_rankdir('LR')\n",
        "        graph.set_node_defaults(shape='circle', fontsize=0)\n",
        "        nodes_per_layer = [self.input_shape, self.hidden_shape, self.output_shape]\n",
        "        for i in range(self.num_layers-1):\n",
        "            for n1 in range(nodes_per_layer[i]):\n",
        "                for n2 in range(nodes_per_layer[i+1]):\n",
        "                    edge = pydot.Edge(f'l{i}n{n1}', f'l{i+1}n{n2}')\n",
        "                    graph.add_edge(edge)\n",
        "        graph.write_png(filename)"
      ],
      "execution_count": null,
      "outputs": []
    },
    {
      "cell_type": "code",
      "metadata": {
        "id": "Ew6nN0HyfbSd"
      },
      "source": [
        "# These are what we call the hyperparameters (a.k.a Black Magic). You need to research on them and tweak them to see what generates the best result for you \n",
        "\n",
        "EPOCH = 30          # must be an int\n",
        "LEARNING_RATE = 0.009\n",
        "nodes_per_layer = [784,128,128,128,10]  #int values for nodes of each layer. # of hidden layers >= 2. \n"
      ],
      "execution_count": null,
      "outputs": []
    },
    {
      "cell_type": "code",
      "metadata": {
        "id": "z6TTr8h1fo4l",
        "colab": {
          "base_uri": "https://localhost:8080/",
          "height": 1000,
          "referenced_widgets": [
            "308bf05766344b16bf89fb7b762fd9b0",
            "06f5f475e89242f28408aa973e2a40dc",
            "46f62f21d9464a8fac171199f200a4ba",
            "28357d65de2a449aa77a15f0723bc701",
            "3b3674b370d14dd8a74ee42c83d6e9a7",
            "09bb05a62f6f4a959431eb9f7b93c3c6",
            "1839d58bd7e0480f876a525a82d1cb31",
            "127e7cfae4c04a998f2d22eb270a92fe"
          ]
        },
        "outputId": "0b011e6a-61f9-4f29-e41d-97c5975fe3c4"
      },
      "source": [
        "start = time.time()\n",
        "\n",
        "# Instantiate the neural network with the number of nodes you choose per layer, right now it is done for three layers only.\n",
        "nn = NeuralNetwork(nodes_per_layer=nodes_per_layer)\n",
        "history = nn.fit(trainX, trainy, epochs=EPOCH, lr=LEARNING_RATE)\n",
        "plt.plot(history);\n",
        "plt.gca().set(xlabel='Epoch', ylabel='Cross-entropy', title='Training Plot {}'.format(rollnumber));\n",
        "end = time.time()\n",
        "\n",
        "print(\"Runtime of the algorithm is \", round((end - start),3),\" seconds\")\n",
        "\n",
        "# print accuracy on test set here\n",
        "_,temp =nn.evaluate(testX,testy)\n",
        "print(\"Accuracy is: \",temp)"
      ],
      "execution_count": null,
      "outputs": [
        {
          "output_type": "stream",
          "text": [
            "/usr/local/lib/python3.7/dist-packages/ipykernel_launcher.py:148: TqdmDeprecationWarning: This function will be removed in tqdm==5.0.0\n",
            "Please use `tqdm.notebook.tqdm` instead of `tqdm.tqdm_notebook`\n"
          ],
          "name": "stderr"
        },
        {
          "output_type": "display_data",
          "data": {
            "application/vnd.jupyter.widget-view+json": {
              "model_id": "308bf05766344b16bf89fb7b762fd9b0",
              "version_major": 2,
              "version_minor": 0
            },
            "text/plain": [
              "HBox(children=(FloatProgress(value=0.0, max=30.0), HTML(value='')))"
            ]
          },
          "metadata": {
            "tags": []
          }
        },
        {
          "output_type": "display_data",
          "data": {
            "image/png": "[encoded data removed]",
            "text/plain": [
              "<Figure size 1080x648 with 2 Axes>"
            ]
          },
          "metadata": {
            "tags": [],
            "needs_background": "light"
          }
        },
        {
          "output_type": "stream",
          "text": [
            "                precision    recall  f1-score   support\n",
            "\n",
            "   T-shirt/top       0.77      0.89      0.82      6000\n",
            " Trouser/pants       0.99      0.96      0.97      6000\n",
            "Pullover shirt       0.74      0.84      0.79      6000\n",
            "         Dress       0.84      0.92      0.88      6000\n",
            "          Coat       0.80      0.79      0.80      6000\n",
            "        Sandal       0.95      0.95      0.95      6000\n",
            "         Shirt       0.82      0.50      0.62      6000\n",
            "       Sneaker       0.92      0.95      0.93      6000\n",
            "           Bag       0.95      0.96      0.96      6000\n",
            "    Ankle boot       0.96      0.94      0.95      6000\n",
            "\n",
            "     micro avg       0.87      0.87      0.87     60000\n",
            "     macro avg       0.87      0.87      0.87     60000\n",
            "  weighted avg       0.87      0.87      0.87     60000\n",
            "   samples avg       0.87      0.87      0.87     60000\n",
            "\n",
            "\n",
            "Runtime of the algorithm is  2521.925  seconds\n",
            "Accuracy is:  83.02000000000001\n"
          ],
          "name": "stdout"
        },
        {
          "output_type": "display_data",
          "data": {
            "image/png": "[encoded data removed]",
            "text/plain": [
              "<Figure size 432x288 with 1 Axes>"
            ]
          },
          "metadata": {
            "tags": []
          }
        }
      ]
    },
    {
      "cell_type": "markdown",
      "metadata": {
        "id": "uXdl3d98idec"
      },
      "source": [
        "#### <b>PART 2</b>\n",
        "\n",
        "Now that your NN model has been replicated and trained, we move on to the actual part of this phase i.e. making your own dataset. The instruction for creating your own dataset are as follows:\n",
        "\n",
        "- Each group has to create a dataset of 50 images (preferred way to go about this is that each member takes 10 pictures for the dataset)\n",
        "- Make sure that all the classes/categories that are there in the Fashion MNIST dataset are covered in these 50 pictures. \n",
        "- Make sure that that there is no class imbalance in your dataset. Class imbalance is when one or more classes have more images/data than others\n",
        "- Once done with taking the pictures, add them into folders where the name of the folder will be the label of that image (for reference, you can have a look at how phase 1's dataset was organized as you essentially have to replicate that directory tree with the only difference is that there will only be `test` folder as this dataset is only being used for evaluation purposes)\n",
        "- Zip the dataset and upload it on your Google Drive. You will have to mount your drive and import your dataset in the same way as it was done in phase 1\n",
        "\n",
        "Once done, you will be reading the your dataset in the notebook and storing it in variables (please make sure that you are not overwriting any variable from Part 1). This will be followed by preprocessing that you will have to do on the images an finally, you will be able to evalute your model \n",
        "\n",
        "<b>Note: It is important that you know the classes/categories, shape and other information regarding the Fashion MNIST dataset on which your model is trained because for your own dataset, you will have to generate the data/images such that they are inline with those same properties and classes otherwise your network will make a lot of misclassifications. You can read up on the Fashion MNIST dataset [here](https://www.kaggle.com/zalando-research/fashionmnist): to familiarize yourself with the dataset</b>"
      ]
    },
    {
      "cell_type": "code",
      "metadata": {
        "id": "YIRg28XDmf4K",
        "colab": {
          "base_uri": "https://localhost:8080/"
        },
        "outputId": "a41a1272-2223-4ce9-b568-d6032dfa50f5"
      },
      "source": [
        "# Mounting Google Drive here\n",
        "drive.mount('/drive')\n",
        "\n",
        "# Edit this address so that it points to the dataset's zipped file on your Google Drive\n",
        "!unzip -o -q \"/drive/MyDrive/myDataSet.zip\" -d \"/content/data/\""
      ],
      "execution_count": 17,
      "outputs": [
        {
          "output_type": "stream",
          "text": [
            "Drive already mounted at /drive; to attempt to forcibly remount, call drive.mount(\"/drive\", force_remount=True).\n"
          ],
          "name": "stdout"
        }
      ]
    },
    {
      "cell_type": "code",
      "metadata": {
        "id": "j0ll0f79mqPY",
        "colab": {
          "base_uri": "https://localhost:8080/"
        },
        "outputId": "65a0de0c-2269-4a11-8a0f-6de521c24f47"
      },
      "source": [
        "classes = 10  # do not change this\n",
        "my_X_test = []   # you must store the test images of your dataset in this varaible\n",
        "my_y_test = []   # you must store the test images' labels of your dataset in this varaible\n",
        "\n",
        "temp_x = []\n",
        "###### Code Here ######\n",
        "'''Please note that you will have to extarct and one-hot encode the labels of the images for my_y_test'''\n",
        "\n",
        "photos = glob.glob('/content/data/dataset/**/*')\n",
        "\n",
        "labels_list = ['tops','pants','pullovershirt','dress','coat','sandal','shirt','sneaker','bag','anklefoot']\n",
        "\n",
        "my_y_test=np.zeros((50, 10))\n",
        "\n",
        "count=0\n",
        "\n",
        "\n",
        "\n",
        "for image in photos:\n",
        "  temp = cv2.imread(image, 0)\n",
        "  my_X_test.append(temp)\n",
        "  split_path=image.split('/')\n",
        "  label = labels_list.index(split_path[4])\n",
        "  my_y_test[count][label]=1\n",
        "  count+=1\n",
        "\n",
        "\n",
        "\n",
        "print(\"Number of images in the dataset: \", len(my_X_test))    # You can change len(X_test) based on your implementation such that total number of test samples is printed"
      ],
      "execution_count": 18,
      "outputs": [
        {
          "output_type": "stream",
          "text": [
            "Number of images in the dataset:  50\n"
          ],
          "name": "stdout"
        }
      ]
    },
    {
      "cell_type": "markdown",
      "metadata": {
        "id": "u3zn9yeBnCSZ"
      },
      "source": [
        "Now you have to do the preprocessing of the images such that they are inline with the image properties of the images of Fashion MNIST dataset. This is the core task of this phase and completely dependent on your own research on preprocessing of data\n",
        "\n",
        "<b>HINT: Data Normalization is one of the ways the data is preprocessed</b>"
      ]
    },
    {
      "cell_type": "code",
      "metadata": {
        "id": "jCYWtB7Fm_Wt"
      },
      "source": [
        "'''Do data preprocessing here. Whatever you do here, please make sure that at the very end your images are in my_X_test and labels are in my_y_test'''\n",
        "###### Code Here ######\n",
        "\n",
        "\n",
        "for images in my_X_test:\n",
        "  temp = cv2.resize(images,(784,1),interpolation=cv2.INTER_CUBIC)\n",
        "  temp_x.append(temp)\n",
        "\n",
        "\n",
        "my_X_test.clear()\n",
        "\n",
        "my_X_test = temp_x\n",
        "\n",
        "my_X_test=np.array(my_X_test)\n",
        "\n",
        "my_X_test=my_X_test/255.0\n",
        "\n"
      ],
      "execution_count": 19,
      "outputs": []
    },
    {
      "cell_type": "code",
      "metadata": {
        "id": "8oab3cwsoBat",
        "colab": {
          "base_uri": "https://localhost:8080/"
        },
        "outputId": "3b6327c2-c229-473d-e0f7-572019d488d1"
      },
      "source": [
        "# print accuracy on your own dataset here\n",
        "\n",
        "_, acc = nn.evaluate(my_X_test,my_y_test)\n",
        "\n",
        "print(\"Accuracy is: \",acc)"
      ],
      "execution_count": 20,
      "outputs": [
        {
          "output_type": "stream",
          "text": [
            "Accuracy is:  8.0\n"
          ],
          "name": "stdout"
        }
      ]
    },
    {
      "cell_type": "markdown",
      "metadata": {
        "id": "49nmY4frIS3E"
      },
      "source": [
        "The low accuracy can be due to a multitude of reasons:\n",
        "\n",
        "\n",
        "1.   The original images were not of high quality\n",
        "\n",
        "2.   Image quality was lost when converting from normal RBG to greyscale, translation could have resulted in data loss, and hence messier boundries between clothing boundry and background\n",
        "3.   All the images were not of the right dimensions, as you can see in pre-processing, we are explicitly reshaping the image to a 28x28 and then 1,784 array. The interpolation copies neighbouring 4x4 pixels to fill in the empty space (extrapolates) them. This could cause further errors in the data set\n",
        "\n",
        "4. The images could be too zoomed in or too zoomed out as well. \n",
        "\n",
        "5. Our model itself has been trained on a very strict and uniform data set, as well as tested on a uniform data set as well. In pavlovian terms, one could say our model has been conditioned to only accurately judge images of specific idealistic properties that have been provided by the training dataset. \n",
        "\n",
        "\n",
        "All these different variables contribute to the large degree in error we face with evaluating our own dataset, and hence the extremely low accuracy rate.\n",
        "\n",
        "\n",
        "\n"
      ]
    }
  ]
}